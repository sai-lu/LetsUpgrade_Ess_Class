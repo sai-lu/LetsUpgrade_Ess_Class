{
  "nbformat": 4,
  "nbformat_minor": 0,
  "metadata": {
    "colab": {
      "name": "LUFCSB4.ipynb",
      "provenance": [],
      "authorship_tag": "ABX9TyOmlj90fbHZ/DFkAJDGNMfS",
      "include_colab_link": true
    },
    "kernelspec": {
      "name": "python3",
      "display_name": "Python 3"
    }
  },
  "cells": [
    {
      "cell_type": "markdown",
      "metadata": {
        "id": "view-in-github",
        "colab_type": "text"
      },
      "source": [
        "<a href=\"https://colab.research.google.com/github/sai-lu/LetsUpgrade_Ess_Class/blob/main/LUFCSB4.ipynb\" target=\"_parent\"><img src=\"https://colab.research.google.com/assets/colab-badge.svg\" alt=\"Open In Colab\"/></a>"
      ]
    },
    {
      "cell_type": "code",
      "metadata": {
        "id": "0_H82CNQlj8W",
        "colab": {
          "base_uri": "https://localhost:8080/",
          "height": 34
        },
        "outputId": "5cd7b4a6-348d-422f-9d58-3486ec90f670"
      },
      "source": [
        "print('hi')"
      ],
      "execution_count": null,
      "outputs": [
        {
          "output_type": "stream",
          "text": [
            "hi\n"
          ],
          "name": "stdout"
        }
      ]
    },
    {
      "cell_type": "code",
      "metadata": {
        "id": "M4eGsFtJlpOS",
        "colab": {
          "base_uri": "https://localhost:8080/",
          "height": 34
        },
        "outputId": "069ccde1-87e4-46c4-e551-039a62943f5d"
      },
      "source": [
        "print('love FCS')"
      ],
      "execution_count": null,
      "outputs": [
        {
          "output_type": "stream",
          "text": [
            "love FCS\n"
          ],
          "name": "stdout"
        }
      ]
    },
    {
      "cell_type": "code",
      "metadata": {
        "id": "xSQcpBI6lusZ",
        "colab": {
          "base_uri": "https://localhost:8080/",
          "height": 34
        },
        "outputId": "eb6c86be-538a-48d6-f27a-3c8edf1995d5"
      },
      "source": [
        "print('Hello')"
      ],
      "execution_count": null,
      "outputs": [
        {
          "output_type": "stream",
          "text": [
            "Hello\n"
          ],
          "name": "stdout"
        }
      ]
    },
    {
      "cell_type": "code",
      "metadata": {
        "id": "Ac447cW7lwEA"
      },
      "source": [
        ""
      ],
      "execution_count": null,
      "outputs": []
    },
    {
      "cell_type": "markdown",
      "metadata": {
        "id": "_jFPHkrw6zAr"
      },
      "source": [
        "Default function of List "
      ]
    },
    {
      "cell_type": "code",
      "metadata": {
        "id": "vavwU39D62MW"
      },
      "source": [
        "lst = [1,2,3,4,5,6,\"a\",\"B\",\"c\"]"
      ],
      "execution_count": null,
      "outputs": []
    },
    {
      "cell_type": "code",
      "metadata": {
        "id": "JgBSeEEM67HD",
        "colab": {
          "base_uri": "https://localhost:8080/",
          "height": 34
        },
        "outputId": "fe489815-11b2-4af2-bd46-c9ca177cd8ff"
      },
      "source": [
        "lst.count(5)"
      ],
      "execution_count": null,
      "outputs": [
        {
          "output_type": "execute_result",
          "data": {
            "text/plain": [
              "1"
            ]
          },
          "metadata": {
            "tags": []
          },
          "execution_count": 2
        }
      ]
    },
    {
      "cell_type": "code",
      "metadata": {
        "id": "s8bj-G-E7Ef-",
        "colab": {
          "base_uri": "https://localhost:8080/",
          "height": 34
        },
        "outputId": "8fe9c738-82d2-40a1-eedb-54f70f536e89"
      },
      "source": [
        "print(\"Hi we are using google colab\")"
      ],
      "execution_count": null,
      "outputs": [
        {
          "output_type": "stream",
          "text": [
            "Hi we are using google colab\n"
          ],
          "name": "stdout"
        }
      ]
    },
    {
      "cell_type": "code",
      "metadata": {
        "id": "0C3pxAOJAwqU"
      },
      "source": [
        "# Create a New File\n",
        "\n",
        "file = open(\"Shivanshu.txt\",\"w\")\n",
        "\n",
        "file.write(\"Hi Shivanshu what happenend ?\")\n",
        "\n",
        "file.close()"
      ],
      "execution_count": null,
      "outputs": []
    },
    {
      "cell_type": "code",
      "metadata": {
        "id": "t1J1WMAxFAHk",
        "colab": {
          "base_uri": "https://localhost:8080/",
          "height": 34
        },
        "outputId": "b1a1b200-a647-46ca-c929-410277a12ab9"
      },
      "source": [
        "file = open(\"Shivanshu.txt\",'r')\n",
        "\n",
        "print(file.read())\n",
        "\n",
        "file.close()"
      ],
      "execution_count": null,
      "outputs": [
        {
          "output_type": "stream",
          "text": [
            "Hi Shivanshu what happenend ?\n"
          ],
          "name": "stdout"
        }
      ]
    },
    {
      "cell_type": "code",
      "metadata": {
        "id": "Iu1WC-TJFGu-",
        "colab": {
          "base_uri": "https://localhost:8080/",
          "height": 69
        },
        "outputId": "9829b6d4-ead5-4bb2-f8f4-e23606f28938"
      },
      "source": [
        "while True:\n",
        "  a = input(\"Enter marker - \")\n",
        "  if a.lower() == 'y':\n",
        "    print(\"We got right marker\")\n",
        "    break"
      ],
      "execution_count": null,
      "outputs": [
        {
          "output_type": "stream",
          "text": [
            "Enter marker - t\n",
            "Enter marker - y\n",
            "We got right marker\n"
          ],
          "name": "stdout"
        }
      ]
    },
    {
      "cell_type": "code",
      "metadata": {
        "id": "-VWP5p6PJDCw"
      },
      "source": [
        "def placemarker(marker, pos):\n",
        "  pass\n",
        "\n",
        "def checkStatus(board,marker):\n",
        "  #check if the recent marker won or not\n",
        "  pass\n",
        "\n"
      ],
      "execution_count": null,
      "outputs": []
    },
    {
      "cell_type": "code",
      "metadata": {
        "id": "RstIThJkJ8-7"
      },
      "source": [
        "def printBoard():\n",
        "  print(\"  |   |   \")\n",
        "  print(\"----------\")\n",
        "  print(\"  |   |   \")\n",
        "  print(\"----------\")\n",
        "  print(\"  |   |   \")\n"
      ],
      "execution_count": null,
      "outputs": []
    },
    {
      "cell_type": "code",
      "metadata": {
        "id": "P1zz5mxNKHFp",
        "colab": {
          "base_uri": "https://localhost:8080/",
          "height": 104
        },
        "outputId": "334fcc44-1255-4e4d-a990-720e36c4c1e8"
      },
      "source": [
        "printBoard()"
      ],
      "execution_count": null,
      "outputs": [
        {
          "output_type": "stream",
          "text": [
            "  |   |   \n",
            "----------\n",
            "  |   |   \n",
            "----------\n",
            "  |   |   \n"
          ],
          "name": "stdout"
        }
      ]
    },
    {
      "cell_type": "code",
      "metadata": {
        "id": "-sV-bcouKJNx",
        "colab": {
          "base_uri": "https://localhost:8080/",
          "height": 124
        },
        "outputId": "a0622710-b550-4895-fda2-33ff9f6ea872"
      },
      "source": [
        "!pip install xlrd2"
      ],
      "execution_count": null,
      "outputs": [
        {
          "output_type": "stream",
          "text": [
            "Collecting xlrd2\n",
            "\u001b[?25l  Downloading https://files.pythonhosted.org/packages/c1/2f/69402836a43926868594d8c96d91092a9a3d61d524723a968e2277c60501/xlrd2-1.2.6-py2.py3-none-any.whl (114kB)\n",
            "\r\u001b[K     |██▉                             | 10kB 19.8MB/s eta 0:00:01\r\u001b[K     |█████▊                          | 20kB 1.7MB/s eta 0:00:01\r\u001b[K     |████████▋                       | 30kB 2.2MB/s eta 0:00:01\r\u001b[K     |███████████▍                    | 40kB 2.5MB/s eta 0:00:01\r\u001b[K     |██████████████▎                 | 51kB 2.0MB/s eta 0:00:01\r\u001b[K     |█████████████████▏              | 61kB 2.3MB/s eta 0:00:01\r\u001b[K     |████████████████████            | 71kB 2.5MB/s eta 0:00:01\r\u001b[K     |██████████████████████▉         | 81kB 2.7MB/s eta 0:00:01\r\u001b[K     |█████████████████████████▊      | 92kB 2.9MB/s eta 0:00:01\r\u001b[K     |████████████████████████████▌   | 102kB 2.8MB/s eta 0:00:01\r\u001b[K     |███████████████████████████████▍| 112kB 2.8MB/s eta 0:00:01\r\u001b[K     |████████████████████████████████| 122kB 2.8MB/s \n",
            "\u001b[?25hInstalling collected packages: xlrd2\n",
            "Successfully installed xlrd2-1.2.6\n"
          ],
          "name": "stdout"
        }
      ]
    },
    {
      "cell_type": "code",
      "metadata": {
        "id": "doupA5uaKtsu",
        "colab": {
          "base_uri": "https://localhost:8080/",
          "height": 34
        },
        "outputId": "6c3481c2-ab4f-465e-a76a-3fe80024db7a"
      },
      "source": [
        "%%writefile fcs.py\n",
        "a = 10\n",
        "b = 20\n",
        "c = a+b\n",
        "print(c)"
      ],
      "execution_count": null,
      "outputs": [
        {
          "output_type": "stream",
          "text": [
            "Writing fcs.py\n"
          ],
          "name": "stdout"
        }
      ]
    },
    {
      "cell_type": "code",
      "metadata": {
        "id": "txpkx54qoI6T",
        "colab": {
          "base_uri": "https://localhost:8080/",
          "height": 247
        },
        "outputId": "8df5d8aa-8f9b-4270-de7c-986d524542cf"
      },
      "source": [
        "!pip install docx"
      ],
      "execution_count": null,
      "outputs": [
        {
          "output_type": "stream",
          "text": [
            "Collecting docx\n",
            "\u001b[?25l  Downloading https://files.pythonhosted.org/packages/4a/8e/5a01644697b03016de339ef444cfff28367f92984dc74eddaab1ed60eada/docx-0.2.4.tar.gz (54kB)\n",
            "\r\u001b[K     |██████                          | 10kB 17.4MB/s eta 0:00:01\r\u001b[K     |████████████                    | 20kB 2.9MB/s eta 0:00:01\r\u001b[K     |██████████████████              | 30kB 3.8MB/s eta 0:00:01\r\u001b[K     |███████████████████████▉        | 40kB 4.1MB/s eta 0:00:01\r\u001b[K     |█████████████████████████████▉  | 51kB 3.2MB/s eta 0:00:01\r\u001b[K     |████████████████████████████████| 61kB 2.7MB/s \n",
            "\u001b[?25hRequirement already satisfied: lxml in /usr/local/lib/python3.6/dist-packages (from docx) (4.2.6)\n",
            "Requirement already satisfied: Pillow>=2.0 in /usr/local/lib/python3.6/dist-packages (from docx) (7.0.0)\n",
            "Building wheels for collected packages: docx\n",
            "  Building wheel for docx (setup.py) ... \u001b[?25l\u001b[?25hdone\n",
            "  Created wheel for docx: filename=docx-0.2.4-cp36-none-any.whl size=53925 sha256=df1ef6e6e773a0e7dbc1f0b9c4eeb119c127672add551d451aa11f23e2e1185d\n",
            "  Stored in directory: /root/.cache/pip/wheels/cc/8d/09/563edfd874a35c0c7ed129b6c4fa890efa4c26458bdec6ffc1\n",
            "Successfully built docx\n",
            "Installing collected packages: docx\n",
            "Successfully installed docx-0.2.4\n"
          ],
          "name": "stdout"
        }
      ]
    },
    {
      "cell_type": "code",
      "metadata": {
        "id": "o4hoKwIAoPwo",
        "colab": {
          "base_uri": "https://localhost:8080/",
          "height": 429
        },
        "outputId": "001ef603-033e-4fd0-e7b8-36d27d640a8d"
      },
      "source": [
        "import docx"
      ],
      "execution_count": null,
      "outputs": [
        {
          "output_type": "error",
          "ename": "ModuleNotFoundError",
          "evalue": "ignored",
          "traceback": [
            "\u001b[0;31m---------------------------------------------------------------------------\u001b[0m",
            "\u001b[0;31mModuleNotFoundError\u001b[0m                       Traceback (most recent call last)",
            "\u001b[0;32m<ipython-input-2-326e089686b3>\u001b[0m in \u001b[0;36m<module>\u001b[0;34m()\u001b[0m\n\u001b[0;32m----> 1\u001b[0;31m \u001b[0;32mimport\u001b[0m \u001b[0mdocx\u001b[0m\u001b[0;34m\u001b[0m\u001b[0;34m\u001b[0m\u001b[0m\n\u001b[0m",
            "\u001b[0;32m/usr/local/lib/python3.6/dist-packages/docx.py\u001b[0m in \u001b[0;36m<module>\u001b[0;34m()\u001b[0m\n\u001b[1;32m     28\u001b[0m     \u001b[0mTAGS\u001b[0m \u001b[0;34m=\u001b[0m \u001b[0;34m{\u001b[0m\u001b[0;34m}\u001b[0m\u001b[0;34m\u001b[0m\u001b[0;34m\u001b[0m\u001b[0m\n\u001b[1;32m     29\u001b[0m \u001b[0;34m\u001b[0m\u001b[0m\n\u001b[0;32m---> 30\u001b[0;31m \u001b[0;32mfrom\u001b[0m \u001b[0mexceptions\u001b[0m \u001b[0;32mimport\u001b[0m \u001b[0mPendingDeprecationWarning\u001b[0m\u001b[0;34m\u001b[0m\u001b[0;34m\u001b[0m\u001b[0m\n\u001b[0m\u001b[1;32m     31\u001b[0m \u001b[0;32mfrom\u001b[0m \u001b[0mwarnings\u001b[0m \u001b[0;32mimport\u001b[0m \u001b[0mwarn\u001b[0m\u001b[0;34m\u001b[0m\u001b[0;34m\u001b[0m\u001b[0m\n\u001b[1;32m     32\u001b[0m \u001b[0;34m\u001b[0m\u001b[0m\n",
            "\u001b[0;31mModuleNotFoundError\u001b[0m: No module named 'exceptions'",
            "",
            "\u001b[0;31m---------------------------------------------------------------------------\u001b[0;32m\nNOTE: If your import is failing due to a missing package, you can\nmanually install dependencies using either !pip or !apt.\n\nTo view examples of installing some common dependencies, click the\n\"Open Examples\" button below.\n\u001b[0;31m---------------------------------------------------------------------------\u001b[0m\n"
          ]
        }
      ]
    },
    {
      "cell_type": "code",
      "metadata": {
        "id": "H3KCkM1BoRY7"
      },
      "source": [
        ""
      ],
      "execution_count": null,
      "outputs": []
    },
    {
      "cell_type": "markdown",
      "metadata": {
        "id": "MWuz3HdZpdw5"
      },
      "source": [
        "HI Guys This is **LetsUpgrade**"
      ]
    },
    {
      "cell_type": "code",
      "metadata": {
        "id": "SwHEcxIGpgAl",
        "colab": {
          "base_uri": "https://localhost:8080/"
        },
        "outputId": "b4c919f1-ed0b-4857-a1c0-c8393849db0f"
      },
      "source": [
        "print('Hi')"
      ],
      "execution_count": null,
      "outputs": [
        {
          "output_type": "stream",
          "text": [
            "Hi\n"
          ],
          "name": "stdout"
        }
      ]
    },
    {
      "cell_type": "code",
      "metadata": {
        "id": "PTD8nymIphQ7"
      },
      "source": [
        ""
      ],
      "execution_count": null,
      "outputs": []
    }
  ]
}